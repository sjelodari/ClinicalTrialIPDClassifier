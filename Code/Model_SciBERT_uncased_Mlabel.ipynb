{
  "nbformat": 4,
  "nbformat_minor": 0,
  "metadata": {
    "colab": {
      "provenance": [],
      "machine_shape": "hm",
      "gpuType": "A100",
      "collapsed_sections": [
        "YkWCEX8Z5Jfi",
        "bfVomqmR1X9a",
        "b6OTvmOnD3GM",
        "aoB6h47sJBFX"
      ]
    },
    "kernelspec": {
      "name": "python3",
      "display_name": "Python 3"
    },
    "language_info": {
      "name": "python"
    },
    "accelerator": "GPU"
  },
  "cells": [
    {
      "cell_type": "markdown",
      "source": [
        "### Installing Packages and importing libraries"
      ],
      "metadata": {
        "id": "YkWCEX8Z5Jfi"
      }
    },
    {
      "cell_type": "code",
      "source": [
        "import pandas as pd\n",
        "import numpy as np\n",
        "from sklearn.model_selection import train_test_split\n",
        "from datasets import Dataset\n",
        "from sklearn.metrics import accuracy_score, precision_recall_fscore_support, confusion_matrix, roc_curve, auc\n",
        "from transformers import EarlyStoppingCallback, AdamW, get_linear_schedule_with_warmup, BertTokenizer, BertForSequenceClassification, Trainer, TrainingArguments,DataCollatorWithPadding\n",
        "import matplotlib.pyplot as plt\n",
        "import seaborn as sns"
      ],
      "metadata": {
        "id": "5Sdfpuqe5Qpi"
      },
      "execution_count": null,
      "outputs": []
    },
    {
      "cell_type": "markdown",
      "source": [
        "### Load and prepare the dataset"
      ],
      "metadata": {
        "id": "bfVomqmR1X9a"
      }
    },
    {
      "cell_type": "code",
      "source": [
        "#LOAD dataset\n",
        "train_df = pd.read_csv('train_dataset_AD.csv')\n",
        "val_df = pd.read_csv('validation_dataset_AD.csv')\n",
        "test_df = pd.read_csv('test_dataset_AD.csv')\n",
        "selected_columns = ['label_M', 'IPD Description']\n",
        "train_df = train_df[selected_columns]\n",
        "val_df = val_df[selected_columns]\n",
        "test_df = test_df[selected_columns]"
      ],
      "metadata": {
        "id": "WbPkBFJj2DC3"
      },
      "execution_count": null,
      "outputs": []
    },
    {
      "cell_type": "code",
      "source": [
        "print(\"Training dataset size: \",train_df.shape)\n",
        "print(\"Validation dataset size: \",val_df.shape)\n",
        "print(\"Test dataset size: \",test_df.shape)"
      ],
      "metadata": {
        "colab": {
          "base_uri": "https://localhost:8080/"
        },
        "id": "pHklCqXX6slQ",
        "outputId": "f950f9c0-5661-400d-db1b-1cdbf641795b"
      },
      "execution_count": null,
      "outputs": [
        {
          "output_type": "stream",
          "name": "stdout",
          "text": [
            "Training dataset size:  (3500, 2)\n",
            "Validation dataset size:  (750, 2)\n",
            "Test dataset size:  (750, 2)\n"
          ]
        }
      ]
    },
    {
      "cell_type": "code",
      "source": [
        "# Convert DataFrame to Hugging Face Dataset\n",
        "train_dataset = Dataset.from_pandas(train_df)\n",
        "val_dataset = Dataset.from_pandas(val_df)\n",
        "test_dataset = Dataset.from_pandas(test_df)"
      ],
      "metadata": {
        "id": "A06uBWQjhTnk"
      },
      "execution_count": null,
      "outputs": []
    },
    {
      "cell_type": "code",
      "source": [
        "# Tokenizer\n",
        "checkpoint = \"allenai/scibert_scivocab_uncased\"\n",
        "tokenizer = BertTokenizer.from_pretrained(checkpoint)\n",
        "# Initialize model\n",
        "model = BertForSequenceClassification.from_pretrained(checkpoint, num_labels=3)\n"
      ],
      "metadata": {
        "id": "LvYGxkNGhbrz"
      },
      "execution_count": null,
      "outputs": []
    },
    {
      "cell_type": "code",
      "source": [
        "# Tokenize the datasets\n",
        "def tokenize_data(example):\n",
        "    max_length = 512\n",
        "    return tokenizer(example['IPD Description'], padding='max_length', truncation=True)\n"
      ],
      "metadata": {
        "id": "VOSwZArViJe7"
      },
      "execution_count": null,
      "outputs": []
    },
    {
      "cell_type": "code",
      "source": [
        "train_dataset = train_dataset.map(tokenize_data, batched=True)\n",
        "val_dataset = val_dataset.map(tokenize_data, batched=True)\n",
        "test_dataset = test_dataset.map(tokenize_data, batched=True)"
      ],
      "metadata": {
        "id": "hkjyrFYWiM5k"
      },
      "execution_count": null,
      "outputs": []
    },
    {
      "cell_type": "code",
      "source": [
        "#remove the text column and rename the label column\n",
        "train_dataset = train_dataset.remove_columns([\"IPD Description\"])\n",
        "val_dataset = val_dataset.remove_columns([\"IPD Description\"])\n",
        "test_dataset = test_dataset.remove_columns([\"IPD Description\"])\n",
        "train_dataset = train_dataset.rename_column(\"label_M\", \"labels\")\n",
        "val_dataset = val_dataset.rename_column(\"label_M\", \"labels\")\n",
        "test_dataset = test_dataset.rename_column(\"label_M\", \"labels\")\n",
        "test_dataset.set_format(\"torch\")\n",
        "train_dataset.set_format(\"torch\")\n",
        "val_dataset.set_format(\"torch\")"
      ],
      "metadata": {
        "id": "0Jz422vi8-kJ"
      },
      "execution_count": null,
      "outputs": []
    },
    {
      "cell_type": "code",
      "source": [
        "val_dataset.column_names"
      ],
      "metadata": {
        "colab": {
          "base_uri": "https://localhost:8080/"
        },
        "id": "hokrb2p_-n7F",
        "outputId": "f8ba0d66-69a9-475e-abda-c91552a77540"
      },
      "execution_count": null,
      "outputs": [
        {
          "output_type": "execute_result",
          "data": {
            "text/plain": [
              "['labels', 'input_ids', 'token_type_ids', 'attention_mask']"
            ]
          },
          "metadata": {},
          "execution_count": 46
        }
      ]
    },
    {
      "cell_type": "code",
      "source": [
        "# Data collator\n",
        "data_collator = DataCollatorWithPadding(tokenizer=tokenizer)\n"
      ],
      "metadata": {
        "id": "rL_QHeWHkIxL"
      },
      "execution_count": null,
      "outputs": []
    },
    {
      "cell_type": "markdown",
      "source": [
        "### Training the model"
      ],
      "metadata": {
        "id": "b6OTvmOnD3GM"
      }
    },
    {
      "cell_type": "code",
      "source": [
        "# Function to compute metrics for evaluation\n",
        "def compute_metrics(eval_pred):\n",
        "    logits, labels = eval_pred\n",
        "    predictions = np.argmax(logits, axis=-1)\n",
        "    precision, recall, f1, _ = precision_recall_fscore_support(labels, predictions, average='weighted')\n",
        "    accuracy = accuracy_score(labels, predictions)\n",
        "    return {\n",
        "        'accuracy': accuracy,\n",
        "        'f1': f1,\n",
        "        'precision': precision,\n",
        "        'recall': recall\n",
        "    }"
      ],
      "metadata": {
        "id": "J1lRL5f-5YAD"
      },
      "execution_count": null,
      "outputs": []
    },
    {
      "cell_type": "code",
      "source": [
        "# Define training arguments\n",
        "training_args = TrainingArguments(\n",
        "    output_dir='./results',\n",
        "    num_train_epochs=6,\n",
        "    per_device_train_batch_size=32,\n",
        "    per_device_eval_batch_size=8,\n",
        "    warmup_steps=20,\n",
        "    weight_decay=0.01,\n",
        "    logging_dir='./logs',\n",
        "    logging_steps=10,\n",
        "    save_strategy=\"epoch\",\n",
        "    evaluation_strategy=\"epoch\",\n",
        "    load_best_model_at_end=True,\n",
        "    metric_for_best_model=\"f1\",\n",
        "    greater_is_better=True,\n",
        ")\n"
      ],
      "metadata": {
        "id": "TtyxvXNhij9c"
      },
      "execution_count": null,
      "outputs": []
    },
    {
      "cell_type": "code",
      "source": [
        "# optimizer\n",
        "optimizer = AdamW(model.parameters(), lr=5e-5)"
      ],
      "metadata": {
        "id": "7T3TyHpulz07"
      },
      "execution_count": null,
      "outputs": []
    },
    {
      "cell_type": "code",
      "source": [
        "from torch.utils.data import DataLoader\n",
        "\n",
        "train_dataloader = DataLoader(\n",
        "    train_dataset, shuffle=True, batch_size=8, collate_fn=data_collator\n",
        ")\n",
        "eval_dataloader = DataLoader(\n",
        "    val_dataset, batch_size=8, collate_fn=data_collator\n",
        ")\n",
        "test_dataloader = DataLoader(\n",
        "    test_dataset, batch_size=8, collate_fn=data_collator\n",
        ")"
      ],
      "metadata": {
        "id": "_E_iUQT-FZMK"
      },
      "execution_count": null,
      "outputs": []
    },
    {
      "cell_type": "code",
      "source": [
        "\n",
        "num_training_steps = len(train_dataloader) * training_args.num_train_epochs\n",
        "scheduler = get_linear_schedule_with_warmup(optimizer,\n",
        "                                            num_warmup_steps=training_args.warmup_steps,\n",
        "                                            num_training_steps=num_training_steps)\n",
        "\n",
        "\n",
        "trainer = Trainer(\n",
        "    model=model,\n",
        "    args=training_args,\n",
        "    train_dataset=train_dataset,\n",
        "    eval_dataset=val_dataset,\n",
        "    tokenizer=tokenizer,\n",
        "    data_collator=data_collator,\n",
        "    compute_metrics=compute_metrics,\n",
        "    optimizers=(optimizer, scheduler),\n",
        "    callbacks=[EarlyStoppingCallback(early_stopping_patience=3)],\n",
        ")"
      ],
      "metadata": {
        "id": "b7AyJVq6kN__"
      },
      "execution_count": null,
      "outputs": []
    },
    {
      "cell_type": "code",
      "source": [
        "# Train the model\n",
        "trainer.train()"
      ],
      "metadata": {
        "id": "wdOb8UXWkm6w"
      },
      "execution_count": null,
      "outputs": []
    },
    {
      "cell_type": "markdown",
      "source": [
        "### Model Evaluation"
      ],
      "metadata": {
        "id": "aoB6h47sJBFX"
      }
    },
    {
      "cell_type": "code",
      "source": [
        "# Evaluation\n",
        "trainer.evaluate(test_dataset)"
      ],
      "metadata": {
        "colab": {
          "base_uri": "https://localhost:8080/",
          "height": 193
        },
        "id": "BwBQPLFjmiVl",
        "outputId": "c5c9d8b4-9438-4526-be11-ca826090172e"
      },
      "execution_count": null,
      "outputs": [
        {
          "output_type": "display_data",
          "data": {
            "text/plain": [
              "<IPython.core.display.HTML object>"
            ],
            "text/html": [
              "\n",
              "    <div>\n",
              "      \n",
              "      <progress value='94' max='94' style='width:300px; height:20px; vertical-align: middle;'></progress>\n",
              "      [94/94 00:01]\n",
              "    </div>\n",
              "    "
            ]
          },
          "metadata": {}
        },
        {
          "output_type": "execute_result",
          "data": {
            "text/plain": [
              "{'eval_loss': 0.4514431655406952,\n",
              " 'eval_accuracy': 0.8333333333333334,\n",
              " 'eval_f1': 0.8346862701618226,\n",
              " 'eval_precision': 0.8369181500169499,\n",
              " 'eval_recall': 0.8333333333333334,\n",
              " 'eval_runtime': 1.7813,\n",
              " 'eval_samples_per_second': 421.039,\n",
              " 'eval_steps_per_second': 52.77,\n",
              " 'epoch': 5.0}"
            ]
          },
          "metadata": {},
          "execution_count": 54
        }
      ]
    },
    {
      "cell_type": "code",
      "source": [
        "predictions = trainer.predict(test_dataset)\n",
        "preds = np.argmax(predictions.predictions, axis=-1)\n"
      ],
      "metadata": {
        "id": "RIkOHLdMncxv"
      },
      "execution_count": null,
      "outputs": []
    },
    {
      "cell_type": "code",
      "source": [
        "predictions = trainer.predict(test_dataset)\n",
        "# Get the predicted labels\n",
        "pred_labels = np.argmax(predictions.predictions, axis=1)\n",
        "# Get the true labels\n",
        "true_labels = predictions.label_ids\n",
        "# Compute the confusion matrix\n",
        "cm = confusion_matrix(true_labels, pred_labels)\n",
        "# Plotting confusion matrix\n",
        "sns.heatmap(cm, annot=True, fmt='g')\n",
        "plt.xlabel('Predicted labels')\n",
        "plt.ylabel('True labels')\n",
        "plt.title('Confusion Matrix')\n",
        "plt.show()"
      ],
      "metadata": {
        "colab": {
          "base_uri": "https://localhost:8080/",
          "height": 472
        },
        "id": "eI3J6oK9n4tI",
        "outputId": "ac0c93f2-f034-4495-eae2-2f3f67ea9615"
      },
      "execution_count": null,
      "outputs": [
        {
          "output_type": "display_data",
          "data": {
            "text/plain": [
              "<IPython.core.display.HTML object>"
            ],
            "text/html": []
          },
          "metadata": {}
        },
        {
          "output_type": "display_data",
          "data": {
            "text/plain": [
              "<Figure size 640x480 with 2 Axes>"
            ],
            "image/png": "[encoded data removed]"
          },
          "metadata": {}
        }
      ]
    },
    {
      "cell_type": "code",
      "source": [
        "pred_probs = predictions.predictions\n",
        "true_labels = predictions.label_ids\n",
        "# Compute ROC curve and AUC for each class\n",
        "fpr, tpr, thresholds = roc_curve(true_labels, pred_probs[:,1], pos_label=1)\n",
        "roc_auc = auc(fpr, tpr)\n",
        "# Plot ROC curve\n",
        "plt.figure()\n",
        "plt.plot(fpr, tpr, color='darkorange', lw=2, label='ROC curve (area = %0.2f)' % roc_auc)\n",
        "plt.plot([0, 1], [0, 1], color='navy', lw=2, linestyle='--')\n",
        "plt.xlim([0.0, 1.0])\n",
        "plt.ylim([0.0, 1.05])\n",
        "plt.xlabel('False Positive Rate')\n",
        "plt.ylabel('True Positive Rate')\n",
        "plt.title('Receiver Operating Characteristic')\n",
        "plt.legend(loc=\"lower right\")\n",
        "plt.show()"
      ],
      "metadata": {
        "colab": {
          "base_uri": "https://localhost:8080/",
          "height": 472
        },
        "id": "GCKchmN7njUI",
        "outputId": "6b43e148-3f41-4a98-cc33-e14afe9c9aaf"
      },
      "execution_count": null,
      "outputs": [
        {
          "output_type": "display_data",
          "data": {
            "text/plain": [
              "<Figure size 640x480 with 1 Axes>"
            ],
            "image/png": "[encoded data removed]"
          },
          "metadata": {}
        }
      ]
    },
    {
      "cell_type": "code",
      "source": [
        "# table of metrics\n",
        "metrics = trainer.evaluate(test_dataset)\n",
        "metrics_table = pd.DataFrame([metrics], columns=metrics.keys())\n"
      ],
      "metadata": {
        "id": "ecXUEs34obnB"
      },
      "execution_count": null,
      "outputs": []
    },
    {
      "cell_type": "code",
      "source": [
        "metrics_table"
      ],
      "metadata": {
        "colab": {
          "base_uri": "https://localhost:8080/",
          "height": 101
        },
        "id": "0U_CByX3odLN",
        "outputId": "7f3ffe2e-1e15-4500-8a11-09e30e78050f"
      },
      "execution_count": null,
      "outputs": [
        {
          "output_type": "execute_result",
          "data": {
            "text/plain": [
              "   eval_loss  eval_accuracy   eval_f1  eval_precision  eval_recall  \\\n",
              "0   0.451443       0.833333  0.834686        0.836918     0.833333   \n",
              "\n",
              "   eval_runtime  eval_samples_per_second  eval_steps_per_second  epoch  \n",
              "0        1.8828                   398.35                 49.927    5.0  "
            ],
            "text/html": [
              "\n",
              "  <div id=\"df-7a89d544-07b4-4b8d-a14d-06404e27d417\" class=\"colab-df-container\">\n",
              "    <div>\n",
              "<style scoped>\n",
              "    .dataframe tbody tr th:only-of-type {\n",
              "        vertical-align: middle;\n",
              "    }\n",
              "\n",
              "    .dataframe tbody tr th {\n",
              "        vertical-align: top;\n",
              "    }\n",
              "\n",
              "    .dataframe thead th {\n",
              "        text-align: right;\n",
              "    }\n",
              "</style>\n",
              "<table border=\"1\" class=\"dataframe\">\n",
              "  <thead>\n",
              "    <tr style=\"text-align: right;\">\n",
              "      <th></th>\n",
              "      <th>eval_loss</th>\n",
              "      <th>eval_accuracy</th>\n",
              "      <th>eval_f1</th>\n",
              "      <th>eval_precision</th>\n",
              "      <th>eval_recall</th>\n",
              "      <th>eval_runtime</th>\n",
              "      <th>eval_samples_per_second</th>\n",
              "      <th>eval_steps_per_second</th>\n",
              "      <th>epoch</th>\n",
              "    </tr>\n",
              "  </thead>\n",
              "  <tbody>\n",
              "    <tr>\n",
              "      <th>0</th>\n",
              "      <td>0.451443</td>\n",
              "      <td>0.833333</td>\n",
              "      <td>0.834686</td>\n",
              "      <td>0.836918</td>\n",
              "      <td>0.833333</td>\n",
              "      <td>1.8828</td>\n",
              "      <td>398.35</td>\n",
              "      <td>49.927</td>\n",
              "      <td>5.0</td>\n",
              "    </tr>\n",
              "  </tbody>\n",
              "</table>\n",
              "</div>\n",
              "    <div class=\"colab-df-buttons\">\n",
              "\n",
              "  <div class=\"colab-df-container\">\n",
              "    <button class=\"colab-df-convert\" onclick=\"convertToInteractive('df-7a89d544-07b4-4b8d-a14d-06404e27d417')\"\n",
              "            title=\"Convert this dataframe to an interactive table.\"\n",
              "            style=\"display:none;\">\n",
              "\n",
              "  <svg xmlns=\"http://www.w3.org/2000/svg\" height=\"24px\" viewBox=\"0 -960 960 960\">\n",
              "    <path d=\"M120-120v-720h720v720H120Zm60-500h600v-160H180v160Zm220 220h160v-160H400v160Zm0 220h160v-160H400v160ZM180-400h160v-160H180v160Zm440 0h160v-160H620v160ZM180-180h160v-160H180v160Zm440 0h160v-160H620v160Z\"/>\n",
              "  </svg>\n",
              "    </button>\n",
              "\n",
              "  <style>\n",
              "    .colab-df-container {\n",
              "      display:flex;\n",
              "      gap: 12px;\n",
              "    }\n",
              "\n",
              "    .colab-df-convert {\n",
              "      background-color: #E8F0FE;\n",
              "      border: none;\n",
              "      border-radius: 50%;\n",
              "      cursor: pointer;\n",
              "      display: none;\n",
              "      fill: #1967D2;\n",
              "      height: 32px;\n",
              "      padding: 0 0 0 0;\n",
              "      width: 32px;\n",
              "    }\n",
              "\n",
              "    .colab-df-convert:hover {\n",
              "      background-color: #E2EBFA;\n",
              "      box-shadow: 0px 1px 2px rgba(60, 64, 67, 0.3), 0px 1px 3px 1px rgba(60, 64, 67, 0.15);\n",
              "      fill: #174EA6;\n",
              "    }\n",
              "\n",
              "    .colab-df-buttons div {\n",
              "      margin-bottom: 4px;\n",
              "    }\n",
              "\n",
              "    [theme=dark] .colab-df-convert {\n",
              "      background-color: #3B4455;\n",
              "      fill: #D2E3FC;\n",
              "    }\n",
              "\n",
              "    [theme=dark] .colab-df-convert:hover {\n",
              "      background-color: #434B5C;\n",
              "      box-shadow: 0px 1px 3px 1px rgba(0, 0, 0, 0.15);\n",
              "      filter: drop-shadow(0px 1px 2px rgba(0, 0, 0, 0.3));\n",
              "      fill: #FFFFFF;\n",
              "    }\n",
              "  </style>\n",
              "\n",
              "    <script>\n",
              "      const buttonEl =\n",
              "        document.querySelector('#df-7a89d544-07b4-4b8d-a14d-06404e27d417 button.colab-df-convert');\n",
              "      buttonEl.style.display =\n",
              "        google.colab.kernel.accessAllowed ? 'block' : 'none';\n",
              "\n",
              "      async function convertToInteractive(key) {\n",
              "        const element = document.querySelector('#df-7a89d544-07b4-4b8d-a14d-06404e27d417');\n",
              "        const dataTable =\n",
              "          await google.colab.kernel.invokeFunction('convertToInteractive',\n",
              "                                                    [key], {});\n",
              "        if (!dataTable) return;\n",
              "\n",
              "        const docLinkHtml = 'Like what you see? Visit the ' +\n",
              "          '<a target=\"_blank\" href=https://colab.research.google.com/notebooks/data_table.ipynb>data table notebook</a>'\n",
              "          + ' to learn more about interactive tables.';\n",
              "        element.innerHTML = '';\n",
              "        dataTable['output_type'] = 'display_data';\n",
              "        await google.colab.output.renderOutput(dataTable, element);\n",
              "        const docLink = document.createElement('div');\n",
              "        docLink.innerHTML = docLinkHtml;\n",
              "        element.appendChild(docLink);\n",
              "      }\n",
              "    </script>\n",
              "  </div>\n",
              "\n",
              "    </div>\n",
              "  </div>\n"
            ],
            "application/vnd.google.colaboratory.intrinsic+json": {
              "type": "dataframe",
              "variable_name": "metrics_table",
              "summary": "{\n  \"name\": \"metrics_table\",\n  \"rows\": 1,\n  \"fields\": [\n    {\n      \"column\": \"eval_loss\",\n      \"properties\": {\n        \"dtype\": \"number\",\n        \"std\": null,\n        \"min\": 0.4514431655406952,\n        \"max\": 0.4514431655406952,\n        \"num_unique_values\": 1,\n        \"samples\": [\n          0.4514431655406952\n        ],\n        \"semantic_type\": \"\",\n        \"description\": \"\"\n      }\n    },\n    {\n      \"column\": \"eval_accuracy\",\n      \"properties\": {\n        \"dtype\": \"number\",\n        \"std\": null,\n        \"min\": 0.8333333333333334,\n        \"max\": 0.8333333333333334,\n        \"num_unique_values\": 1,\n        \"samples\": [\n          0.8333333333333334\n        ],\n        \"semantic_type\": \"\",\n        \"description\": \"\"\n      }\n    },\n    {\n      \"column\": \"eval_f1\",\n      \"properties\": {\n        \"dtype\": \"number\",\n        \"std\": null,\n        \"min\": 0.8346862701618226,\n        \"max\": 0.8346862701618226,\n        \"num_unique_values\": 1,\n        \"samples\": [\n          0.8346862701618226\n        ],\n        \"semantic_type\": \"\",\n        \"description\": \"\"\n      }\n    },\n    {\n      \"column\": \"eval_precision\",\n      \"properties\": {\n        \"dtype\": \"number\",\n        \"std\": null,\n        \"min\": 0.8369181500169499,\n        \"max\": 0.8369181500169499,\n        \"num_unique_values\": 1,\n        \"samples\": [\n          0.8369181500169499\n        ],\n        \"semantic_type\": \"\",\n        \"description\": \"\"\n      }\n    },\n    {\n      \"column\": \"eval_recall\",\n      \"properties\": {\n        \"dtype\": \"number\",\n        \"std\": null,\n        \"min\": 0.8333333333333334,\n        \"max\": 0.8333333333333334,\n        \"num_unique_values\": 1,\n        \"samples\": [\n          0.8333333333333334\n        ],\n        \"semantic_type\": \"\",\n        \"description\": \"\"\n      }\n    },\n    {\n      \"column\": \"eval_runtime\",\n      \"properties\": {\n        \"dtype\": \"number\",\n        \"std\": null,\n        \"min\": 1.8828,\n        \"max\": 1.8828,\n        \"num_unique_values\": 1,\n        \"samples\": [\n          1.8828\n        ],\n        \"semantic_type\": \"\",\n        \"description\": \"\"\n      }\n    },\n    {\n      \"column\": \"eval_samples_per_second\",\n      \"properties\": {\n        \"dtype\": \"number\",\n        \"std\": null,\n        \"min\": 398.35,\n        \"max\": 398.35,\n        \"num_unique_values\": 1,\n        \"samples\": [\n          398.35\n        ],\n        \"semantic_type\": \"\",\n        \"description\": \"\"\n      }\n    },\n    {\n      \"column\": \"eval_steps_per_second\",\n      \"properties\": {\n        \"dtype\": \"number\",\n        \"std\": null,\n        \"min\": 49.927,\n        \"max\": 49.927,\n        \"num_unique_values\": 1,\n        \"samples\": [\n          49.927\n        ],\n        \"semantic_type\": \"\",\n        \"description\": \"\"\n      }\n    },\n    {\n      \"column\": \"epoch\",\n      \"properties\": {\n        \"dtype\": \"number\",\n        \"std\": null,\n        \"min\": 5.0,\n        \"max\": 5.0,\n        \"num_unique_values\": 1,\n        \"samples\": [\n          5.0\n        ],\n        \"semantic_type\": \"\",\n        \"description\": \"\"\n      }\n    }\n  ]\n}"
            }
          },
          "metadata": {},
          "execution_count": 59
        }
      ]
    }
  ]
}